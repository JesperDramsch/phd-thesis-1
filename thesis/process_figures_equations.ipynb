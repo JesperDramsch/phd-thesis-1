{
 "cells": [
  {
   "cell_type": "code",
   "execution_count": 2,
   "metadata": {},
   "outputs": [],
   "source": [
    "import os\n",
    "import subprocess\n",
    "import shutil\n",
    "import codecs\n",
    "import fileinput"
   ]
  },
  {
   "cell_type": "code",
   "execution_count": 4,
   "metadata": {},
   "outputs": [],
   "source": [
    "directory = 'dc_casing'\n",
    "fig_dir = 'figures/' + directory\n",
    "# eq_dir = 'equations/' + directory\n",
    "\n",
    "fig_files = [f for f in os.listdir(fig_dir) if f.endswith('.tex')]\n",
    "# eq_files = [f for f in os.listdir(eq_dir) if f.endswith('.tex')]"
   ]
  },
  {
   "cell_type": "code",
   "execution_count": 9,
   "metadata": {},
   "outputs": [],
   "source": [
    "find_me = \"{figures/\"\n",
    "replace_with = find_me+directory+'/'"
   ]
  },
  {
   "cell_type": "code",
   "execution_count": 10,
   "metadata": {},
   "outputs": [],
   "source": [
    "for f in files:\n",
    "    with fileinput.FileInput(os.path.sep.join([fig_dir, f]), inplace=True, backup='.bak') as file:\n",
    "        for line in file:\n",
    "            print(line.replace(find_me, replace_with), end='')"
   ]
  },
  {
   "cell_type": "code",
   "execution_count": null,
   "metadata": {},
   "outputs": [],
   "source": []
  }
 ],
 "metadata": {
  "kernelspec": {
   "display_name": "Python 3",
   "language": "python",
   "name": "python3"
  },
  "language_info": {
   "codemirror_mode": {
    "name": "ipython",
    "version": 3
   },
   "file_extension": ".py",
   "mimetype": "text/x-python",
   "name": "python",
   "nbconvert_exporter": "python",
   "pygments_lexer": "ipython3",
   "version": "3.6.4"
  }
 },
 "nbformat": 4,
 "nbformat_minor": 2
}
